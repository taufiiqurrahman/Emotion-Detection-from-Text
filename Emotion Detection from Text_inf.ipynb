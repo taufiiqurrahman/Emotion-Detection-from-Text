{
  "nbformat": 4,
  "nbformat_minor": 0,
  "metadata": {
    "colab": {
      "provenance": [],
      "gpuType": "T4"
    },
    "kernelspec": {
      "name": "python3",
      "display_name": "Python 3"
    },
    "language_info": {
      "name": "python"
    },
    "accelerator": "GPU"
  },
  "cells": [
    {
      "cell_type": "markdown",
      "source": [
        "---\n",
        "# 1. Introduction\n",
        "\n",
        "- Name: Taufiqurrahman\n",
        "- Batch: BSD 002\n",
        "- Dataset: [Emotion Detection from Text](https://www.kaggle.com/datasets/pashupatigupta/emotion-detection-from-text/data)\n",
        "- Objective :\n",
        "Methods for developing a highly effective model for detecting emotions in text.   One of the main goals is to address the difficulties that arise from having a small amount of labeled data and dealing with emotions that fall into multiple categories.   Through the use of NLP methodologies, our aim is to create a model that can effectively handle class imbalance problems and accurately categorize a wide range of human emotions. This will greatly enhance sentiment analysis and improve human-computer interaction.\n"
      ],
      "metadata": {
        "id": "iNEyCKx26qXa"
      }
    },
    {
      "cell_type": "markdown",
      "source": [
        "---\n",
        "# 2. Model Inference"
      ],
      "metadata": {
        "id": "-nJAO3IK62rD"
      }
    },
    {
      "cell_type": "code",
      "execution_count": 1,
      "metadata": {
        "id": "_7GHdpdx6G9e"
      },
      "outputs": [],
      "source": [
        "# Import libraries\n",
        "import pandas as pd\n",
        "import numpy as np\n",
        "import tensorflow as tf\n",
        "import warnings\n",
        "warnings.filterwarnings('ignore')\n",
        "from google.colab import files"
      ]
    },
    {
      "cell_type": "markdown",
      "source": [
        "---\n",
        "# 3. Mount to Google Drive"
      ],
      "metadata": {
        "id": "daPAAv7I65WB"
      }
    },
    {
      "cell_type": "code",
      "source": [
        "# Mount to Google Drive\n",
        "from google.colab import drive\n",
        "drive.mount('/content/drive')"
      ],
      "metadata": {
        "colab": {
          "base_uri": "https://localhost:8080/"
        },
        "id": "ErIfVm9M68MU",
        "outputId": "537f83c3-3205-44c5-ebcd-34239d7ba99d"
      },
      "execution_count": 2,
      "outputs": [
        {
          "output_type": "stream",
          "name": "stdout",
          "text": [
            "Drive already mounted at /content/drive; to attempt to forcibly remount, call drive.mount(\"/content/drive\", force_remount=True).\n"
          ]
        }
      ]
    },
    {
      "cell_type": "markdown",
      "source": [
        "---\n",
        "# 4. Unzip model and load model"
      ],
      "metadata": {
        "id": "h0lI4SnA7Blf"
      }
    },
    {
      "cell_type": "code",
      "source": [
        "# Unzip Model\n",
        "!unzip -q '/content/drive/MyDrive/best_model.zip' -d model"
      ],
      "metadata": {
        "colab": {
          "base_uri": "https://localhost:8080/"
        },
        "id": "-KKfxyvW7B5W",
        "outputId": "84c81be7-9d28-42dc-e8fa-c5ef4b165e65"
      },
      "execution_count": 3,
      "outputs": [
        {
          "output_type": "stream",
          "name": "stdout",
          "text": [
            "replace model/fingerprint.pb? [y]es, [n]o, [A]ll, [N]one, [r]ename: n\n",
            "replace model/keras_metadata.pb? [y]es, [n]o, [A]ll, [N]one, [r]ename: n\n",
            "replace model/saved_model.pb? [y]es, [n]o, [A]ll, [N]one, [r]ename: n\n",
            "replace model/variables/variables.data-00000-of-00001? [y]es, [n]o, [A]ll, [N]one, [r]ename: n\n",
            "replace model/variables/variables.index? [y]es, [n]o, [A]ll, [N]one, [r]ename: n\n"
          ]
        }
      ]
    },
    {
      "cell_type": "code",
      "source": [
        "# Create path for model\n",
        "model_path = '/content/model'"
      ],
      "metadata": {
        "id": "LQlUrMeN7SaY"
      },
      "execution_count": 4,
      "outputs": []
    },
    {
      "cell_type": "code",
      "source": [
        "# Load model\n",
        "model = tf.keras.models.load_model(model_path)"
      ],
      "metadata": {
        "id": "oiGjR_QT7UYQ"
      },
      "execution_count": 5,
      "outputs": []
    },
    {
      "cell_type": "markdown",
      "source": [
        "---\n",
        "# 5. Load data inference"
      ],
      "metadata": {
        "id": "oQSQln3W7WaU"
      }
    },
    {
      "cell_type": "code",
      "source": [
        "# Read file\n",
        "data = pd.read_csv('drive/My Drive/Data_inf.csv')"
      ],
      "metadata": {
        "id": "bZKTbQ9n7WzZ"
      },
      "execution_count": 6,
      "outputs": []
    },
    {
      "cell_type": "code",
      "source": [
        "# Create dataframe\n",
        "data = pd.DataFrame(data)\n",
        "data = data.drop(['sentiment','Unnamed: 0'],axis=1)"
      ],
      "metadata": {
        "id": "DKfj087t9IHB"
      },
      "execution_count": 8,
      "outputs": []
    },
    {
      "cell_type": "code",
      "source": [
        "data"
      ],
      "metadata": {
        "colab": {
          "base_uri": "https://localhost:8080/",
          "height": 80
        },
        "id": "ww66eHU78WQV",
        "outputId": "dee32b99-5672-4402-b437-1227059c5ab1"
      },
      "execution_count": 9,
      "outputs": [
        {
          "output_type": "execute_result",
          "data": {
            "text/plain": [
              "                                             content\n",
              "0  @aaronhoskins I fucking miss that band so so much"
            ],
            "text/html": [
              "\n",
              "  <div id=\"df-6b8e1715-0ec9-4b85-9f7a-8fb01d21761b\" class=\"colab-df-container\">\n",
              "    <div>\n",
              "<style scoped>\n",
              "    .dataframe tbody tr th:only-of-type {\n",
              "        vertical-align: middle;\n",
              "    }\n",
              "\n",
              "    .dataframe tbody tr th {\n",
              "        vertical-align: top;\n",
              "    }\n",
              "\n",
              "    .dataframe thead th {\n",
              "        text-align: right;\n",
              "    }\n",
              "</style>\n",
              "<table border=\"1\" class=\"dataframe\">\n",
              "  <thead>\n",
              "    <tr style=\"text-align: right;\">\n",
              "      <th></th>\n",
              "      <th>content</th>\n",
              "    </tr>\n",
              "  </thead>\n",
              "  <tbody>\n",
              "    <tr>\n",
              "      <th>0</th>\n",
              "      <td>@aaronhoskins I fucking miss that band so so much</td>\n",
              "    </tr>\n",
              "  </tbody>\n",
              "</table>\n",
              "</div>\n",
              "    <div class=\"colab-df-buttons\">\n",
              "\n",
              "  <div class=\"colab-df-container\">\n",
              "    <button class=\"colab-df-convert\" onclick=\"convertToInteractive('df-6b8e1715-0ec9-4b85-9f7a-8fb01d21761b')\"\n",
              "            title=\"Convert this dataframe to an interactive table.\"\n",
              "            style=\"display:none;\">\n",
              "\n",
              "  <svg xmlns=\"http://www.w3.org/2000/svg\" height=\"24px\" viewBox=\"0 -960 960 960\">\n",
              "    <path d=\"M120-120v-720h720v720H120Zm60-500h600v-160H180v160Zm220 220h160v-160H400v160Zm0 220h160v-160H400v160ZM180-400h160v-160H180v160Zm440 0h160v-160H620v160ZM180-180h160v-160H180v160Zm440 0h160v-160H620v160Z\"/>\n",
              "  </svg>\n",
              "    </button>\n",
              "\n",
              "  <style>\n",
              "    .colab-df-container {\n",
              "      display:flex;\n",
              "      gap: 12px;\n",
              "    }\n",
              "\n",
              "    .colab-df-convert {\n",
              "      background-color: #E8F0FE;\n",
              "      border: none;\n",
              "      border-radius: 50%;\n",
              "      cursor: pointer;\n",
              "      display: none;\n",
              "      fill: #1967D2;\n",
              "      height: 32px;\n",
              "      padding: 0 0 0 0;\n",
              "      width: 32px;\n",
              "    }\n",
              "\n",
              "    .colab-df-convert:hover {\n",
              "      background-color: #E2EBFA;\n",
              "      box-shadow: 0px 1px 2px rgba(60, 64, 67, 0.3), 0px 1px 3px 1px rgba(60, 64, 67, 0.15);\n",
              "      fill: #174EA6;\n",
              "    }\n",
              "\n",
              "    .colab-df-buttons div {\n",
              "      margin-bottom: 4px;\n",
              "    }\n",
              "\n",
              "    [theme=dark] .colab-df-convert {\n",
              "      background-color: #3B4455;\n",
              "      fill: #D2E3FC;\n",
              "    }\n",
              "\n",
              "    [theme=dark] .colab-df-convert:hover {\n",
              "      background-color: #434B5C;\n",
              "      box-shadow: 0px 1px 3px 1px rgba(0, 0, 0, 0.15);\n",
              "      filter: drop-shadow(0px 1px 2px rgba(0, 0, 0, 0.3));\n",
              "      fill: #FFFFFF;\n",
              "    }\n",
              "  </style>\n",
              "\n",
              "    <script>\n",
              "      const buttonEl =\n",
              "        document.querySelector('#df-6b8e1715-0ec9-4b85-9f7a-8fb01d21761b button.colab-df-convert');\n",
              "      buttonEl.style.display =\n",
              "        google.colab.kernel.accessAllowed ? 'block' : 'none';\n",
              "\n",
              "      async function convertToInteractive(key) {\n",
              "        const element = document.querySelector('#df-6b8e1715-0ec9-4b85-9f7a-8fb01d21761b');\n",
              "        const dataTable =\n",
              "          await google.colab.kernel.invokeFunction('convertToInteractive',\n",
              "                                                    [key], {});\n",
              "        if (!dataTable) return;\n",
              "\n",
              "        const docLinkHtml = 'Like what you see? Visit the ' +\n",
              "          '<a target=\"_blank\" href=https://colab.research.google.com/notebooks/data_table.ipynb>data table notebook</a>'\n",
              "          + ' to learn more about interactive tables.';\n",
              "        element.innerHTML = '';\n",
              "        dataTable['output_type'] = 'display_data';\n",
              "        await google.colab.output.renderOutput(dataTable, element);\n",
              "        const docLink = document.createElement('div');\n",
              "        docLink.innerHTML = docLinkHtml;\n",
              "        element.appendChild(docLink);\n",
              "      }\n",
              "    </script>\n",
              "  </div>\n",
              "\n",
              "    </div>\n",
              "  </div>\n"
            ]
          },
          "metadata": {},
          "execution_count": 9
        }
      ]
    },
    {
      "cell_type": "code",
      "source": [
        "# Check summary of Model\n",
        "model.summary()"
      ],
      "metadata": {
        "id": "TE9i9OmE-AeT",
        "colab": {
          "base_uri": "https://localhost:8080/"
        },
        "outputId": "cd843966-6e58-4b61-b294-162b5a1f21c2"
      },
      "execution_count": 10,
      "outputs": [
        {
          "output_type": "stream",
          "name": "stdout",
          "text": [
            "Model: \"sequential\"\n",
            "_________________________________________________________________\n",
            " Layer (type)                Output Shape              Param #   \n",
            "=================================================================\n",
            " text_vectorization (TextVe  (None, 31)                0         \n",
            " ctorization)                                                    \n",
            "                                                                 \n",
            " embedding (Embedding)       (None, 31, 100)           1924300   \n",
            "                                                                 \n",
            " bidirectional (Bidirection  (None, 31, 64)            34048     \n",
            " al)                                                             \n",
            "                                                                 \n",
            " dropout (Dropout)           (None, 31, 64)            0         \n",
            "                                                                 \n",
            " bidirectional_1 (Bidirecti  (None, 32)                10368     \n",
            " onal)                                                           \n",
            "                                                                 \n",
            " dropout_1 (Dropout)         (None, 32)                0         \n",
            "                                                                 \n",
            " dense (Dense)               (None, 6)                 198       \n",
            "                                                                 \n",
            "=================================================================\n",
            "Total params: 1968914 (7.51 MB)\n",
            "Trainable params: 1968914 (7.51 MB)\n",
            "Non-trainable params: 0 (0.00 Byte)\n",
            "_________________________________________________________________\n"
          ]
        }
      ]
    },
    {
      "cell_type": "code",
      "source": [
        "# Predict the data inference\n",
        "result = model.predict(data)\n",
        "result1 = np.argmax(result)\n",
        "result1"
      ],
      "metadata": {
        "id": "k1sodLD6-JTk",
        "colab": {
          "base_uri": "https://localhost:8080/"
        },
        "outputId": "3f29c8c1-667b-4c40-c314-2163f92315d2"
      },
      "execution_count": 23,
      "outputs": [
        {
          "output_type": "stream",
          "name": "stdout",
          "text": [
            "1/1 [==============================] - 0s 20ms/step\n"
          ]
        },
        {
          "output_type": "execute_result",
          "data": {
            "text/plain": [
              "5"
            ]
          },
          "metadata": {},
          "execution_count": 23
        }
      ]
    },
    {
      "cell_type": "code",
      "source": [
        "# Display Result\n",
        "if result1 == 0:\n",
        "  print('other')\n",
        "elif result1 == 1:\n",
        "  print('sadness')\n",
        "elif result1 == 2:\n",
        "  print('neutral')\n",
        "elif result1 == 3:\n",
        "  print('worry')\n",
        "elif result1 == 4:\n",
        "  print('love')\n",
        "elif result1 == 5:\n",
        "  print('happiness')\n"
      ],
      "metadata": {
        "colab": {
          "base_uri": "https://localhost:8080/"
        },
        "id": "vjyitN0JAGhK",
        "outputId": "b443e5ae-2c48-4afa-a924-301440b5c2fa"
      },
      "execution_count": 27,
      "outputs": [
        {
          "output_type": "stream",
          "name": "stdout",
          "text": [
            "happiness\n"
          ]
        }
      ]
    },
    {
      "cell_type": "markdown",
      "source": [
        "---"
      ],
      "metadata": {
        "id": "n2agVjHLtaVg"
      }
    }
  ]
}